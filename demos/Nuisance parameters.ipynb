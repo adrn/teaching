{
 "metadata": {
  "name": "",
  "signature": "sha256:2f7e5af60b2edcd2c322dabbaccfe7f548a15b84a0525a0fd1314eff072860ed"
 },
 "nbformat": 3,
 "nbformat_minor": 0,
 "worksheets": [
  {
   "cells": [
    {
     "cell_type": "heading",
     "level": 1,
     "metadata": {},
     "source": [
      "Nuisance parameters"
     ]
    },
    {
     "cell_type": "heading",
     "level": 3,
     "metadata": {},
     "source": [
      "Generate data"
     ]
    },
    {
     "cell_type": "code",
     "collapsed": false,
     "input": [
      "from __future__ import division, print_function\n",
      "\n",
      "# Third-party\n",
      "import emcee\n",
      "import matplotlib\n",
      "import matplotlib.pyplot as plt\n",
      "import numpy as np\n",
      "import triangle\n",
      "%matplotlib inline"
     ],
     "language": "python",
     "metadata": {},
     "outputs": [],
     "prompt_number": 71
    },
    {
     "cell_type": "code",
     "collapsed": false,
     "input": [
      "np.random.seed(42)\n",
      "N = 15\n",
      "t = np.random.uniform(0, 10, size=N)\n",
      "t.sort()\n",
      "f = np.random.normal(10., 0.5, size=N)\n",
      "sigma = 0.1\n",
      "\n",
      "plt.errorbar(t, f, sigma, color='k', linestyle='none', marker='o', ecolor='#666666')"
     ],
     "language": "python",
     "metadata": {},
     "outputs": [
      {
       "metadata": {},
       "output_type": "pyout",
       "prompt_number": 72,
       "text": [
        "<Container object of 3 artists>"
       ]
      },
      {
       "metadata": {},
       "output_type": "display_data",
       "png": "[encoded data removed]",
       "text": [
        "<matplotlib.figure.Figure at 0x10f5b7990>"
       ]
      }
     ],
     "prompt_number": 72
    },
    {
     "cell_type": "code",
     "collapsed": false,
     "input": [
      "def ln_prior(p):\n",
      "    c = p[0]\n",
      "    if c < 5 or c > 20:\n",
      "        return -np.inf\n",
      "    \n",
      "    return 0.\n",
      "\n",
      "def ln_likelihood(p, f, sigma):\n",
      "    c = p[0]\n",
      "    return -0.5*np.log(2*np.pi) - 0.5*(f - c)**2 / sigma**2\n",
      "\n",
      "def ln_posterior(p, *args):\n",
      "    return ln_prior(p) + ln_likelihood(p, *args).sum()"
     ],
     "language": "python",
     "metadata": {},
     "outputs": [],
     "prompt_number": 73
    },
    {
     "cell_type": "code",
     "collapsed": false,
     "input": [
      "nwalkers = 8\n",
      "p0 = emcee.utils.sample_ball([10.], [0.1], size=nwalkers)\n",
      "\n",
      "sampler = emcee.EnsembleSampler(nwalkers=nwalkers, dim=1, lnpostfn=ln_posterior,\n",
      "                                args=(f, sigma))\n",
      "pos,prob,state = sampler.run_mcmc(p0, 100)\n",
      "sampler.reset()\n",
      "pos,prob,state = sampler.run_mcmc(pos, 1000)"
     ],
     "language": "python",
     "metadata": {},
     "outputs": [],
     "prompt_number": 74
    },
    {
     "cell_type": "code",
     "collapsed": false,
     "input": [
      "plt.figure(figsize=(6,6))\n",
      "plt.hist(sampler.flatchain);\n",
      "plt.xlim(9, 11)\n",
      "plt.axvline(10., lw=3., linestyle='--', alpha=0.65, color='r')\n",
      "plt.xlabel(\"$c$\")\n",
      "ax = plt.gca()\n",
      "ax.yaxis.set_visible(False)"
     ],
     "language": "python",
     "metadata": {},
     "outputs": [
      {
       "metadata": {},
       "output_type": "display_data",
       "png": "[encoded data removed]",
       "text": [
        "<matplotlib.figure.Figure at 0x10bd03790>"
       ]
      }
     ],
     "prompt_number": 75
    },
    {
     "cell_type": "heading",
     "level": 3,
     "metadata": {},
     "source": [
      "Redefine likelihood with nuisance parameter"
     ]
    },
    {
     "cell_type": "code",
     "collapsed": false,
     "input": [
      "def ln_prior(p):\n",
      "    c,alpha = p\n",
      "    \n",
      "    if c < 5 or c > 20:\n",
      "        return -np.inf\n",
      "    \n",
      "    if alpha <= 0.:\n",
      "        return -np.inf\n",
      "    \n",
      "    return -np.log(alpha)\n",
      "\n",
      "def ln_likelihood(p, f, sigma):\n",
      "    c,alpha = p\n",
      "    var = sigma**2 + alpha**2\n",
      "    return -0.5*np.log(2*np.pi) - 0.5*np.log(var) - 0.5*(f - c)**2 / var\n",
      "\n",
      "def ln_posterior(p, *args):\n",
      "    return ln_prior(p) + ln_likelihood(p, *args).sum()"
     ],
     "language": "python",
     "metadata": {},
     "outputs": [],
     "prompt_number": 76
    },
    {
     "cell_type": "code",
     "collapsed": false,
     "input": [
      "nwalkers = 8\n",
      "p0 = emcee.utils.sample_ball([10., 1], [0.1,0.01], size=nwalkers)\n",
      "\n",
      "sampler = emcee.EnsembleSampler(nwalkers=nwalkers, dim=2, lnpostfn=ln_posterior,\n",
      "                                args=(f, sigma))\n",
      "pos,prob,state = sampler.run_mcmc(p0, 100)\n",
      "sampler.reset()\n",
      "pos,prob,state = sampler.run_mcmc(pos, 1000)"
     ],
     "language": "python",
     "metadata": {},
     "outputs": [],
     "prompt_number": 77
    },
    {
     "cell_type": "code",
     "collapsed": false,
     "input": [
      "plt.plot(sampler.chain[...,0], drawstyle='steps', marker=None, alpha=0.1, color='k');\n",
      "\n",
      "plt.figure()\n",
      "plt.plot(sampler.chain[...,1], drawstyle='steps', marker=None, alpha=0.1, color='k');"
     ],
     "language": "python",
     "metadata": {},
     "outputs": [
      {
       "metadata": {},
       "output_type": "display_data",
       "png": "[encoded data removed]",
       "text": [
        "<matplotlib.figure.Figure at 0x111dd1050>"
       ]
      },
      {
       "metadata": {},
       "output_type": "display_data",
       "png": "[encoded data removed]",
       "text": [
        "<matplotlib.figure.Figure at 0x1135d3ed0>"
       ]
      }
     ],
     "prompt_number": 78
    },
    {
     "cell_type": "code",
     "collapsed": false,
     "input": [
      "plt.figure(figsize=(6,6))\n",
      "plt.hist(sampler.flatchain[:,0]);\n",
      "plt.xlim(9, 11)\n",
      "plt.axvline(10., lw=3., linestyle='--', alpha=0.65, color='r')\n",
      "plt.xlabel(\"$c$\")\n",
      "ax = plt.gca()\n",
      "ax.yaxis.set_visible(False)"
     ],
     "language": "python",
     "metadata": {},
     "outputs": [
      {
       "metadata": {},
       "output_type": "display_data",
       "png": "[encoded data removed]",
       "text": [
        "<matplotlib.figure.Figure at 0x112ff4490>"
       ]
      }
     ],
     "prompt_number": 79
    },
    {
     "cell_type": "code",
     "collapsed": false,
     "input": [],
     "language": "python",
     "metadata": {},
     "outputs": [],
     "prompt_number": 79
    }
   ],
   "metadata": {}
  }
 ]
}