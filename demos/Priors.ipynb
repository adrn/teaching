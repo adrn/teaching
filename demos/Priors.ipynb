{
 "metadata": {
  "name": "",
  "signature": "sha256:b02e67b3b0c93876f9c59df544e85606ff842d8223678dfcef957227e2f3197f"
 },
 "nbformat": 3,
 "nbformat_minor": 0,
 "worksheets": [
  {
   "cells": [
    {
     "cell_type": "code",
     "collapsed": false,
     "input": [
      "from __future__ import division, print_function\n",
      "\n",
      "# Third-party\n",
      "import emcee\n",
      "import matplotlib\n",
      "import matplotlib.pyplot as plt\n",
      "import numpy as np\n",
      "import scipy.optimize as so\n",
      "import triangle\n",
      "%matplotlib inline"
     ],
     "language": "python",
     "metadata": {},
     "outputs": [],
     "prompt_number": 1
    },
    {
     "cell_type": "code",
     "collapsed": false,
     "input": [
      "np.random.seed(1)\n",
      "N = 64\n",
      "f = np.random.normal(10., 0.5, size=N)\n",
      "sigma = 0.7"
     ],
     "language": "python",
     "metadata": {},
     "outputs": [],
     "prompt_number": 204
    },
    {
     "cell_type": "code",
     "collapsed": false,
     "input": [
      "np.mean(f)"
     ],
     "language": "python",
     "metadata": {},
     "outputs": [
      {
       "metadata": {},
       "output_type": "pyout",
       "prompt_number": 205,
       "text": [
        "10.009470056989901"
       ]
      }
     ],
     "prompt_number": 205
    },
    {
     "cell_type": "code",
     "collapsed": false,
     "input": [
      "def chi(p, f, sigma):\n",
      "    c = p[0]\n",
      "    return (f - c)/sigma\n",
      "\n",
      "res = so.leastsq(chi, x0=[10.], args=(f, sigma), full_output=True, )\n",
      "lsq_c = res[0]\n",
      "lsq_c_sigma = np.sqrt(res[1][0])"
     ],
     "language": "python",
     "metadata": {},
     "outputs": [],
     "prompt_number": 206
    },
    {
     "cell_type": "code",
     "collapsed": false,
     "input": [
      "c_mu = 9.\n",
      "c_sigma = 0.4\n",
      "def ln_prior(p):\n",
      "    c = p[0]\n",
      "    return -0.5*np.log(2*np.pi) - 2*np.log(c_sigma) - 0.5*(c - c_mu)**2 / c_sigma**2\n",
      "\n",
      "def ln_likelihood(p, f, sigma):\n",
      "    c = p[0]\n",
      "    return -0.5*np.log(2*np.pi) - 2*np.log(sigma) - 0.5*(f - c)**2 / sigma**2\n",
      "\n",
      "def ln_posterior(p, *args):\n",
      "    return ln_prior(p) + ln_likelihood(p, *args).sum()"
     ],
     "language": "python",
     "metadata": {},
     "outputs": [],
     "prompt_number": 207
    },
    {
     "cell_type": "code",
     "collapsed": false,
     "input": [
      "nwalkers = 8\n",
      "p0 = emcee.utils.sample_ball([10.], [0.1], size=nwalkers)\n",
      "\n",
      "sampler = emcee.EnsembleSampler(nwalkers=nwalkers, dim=1, lnpostfn=ln_posterior,\n",
      "                                args=(f, sigma))\n",
      "pos,prob,state = sampler.run_mcmc(p0, 100)\n",
      "sampler.reset()\n",
      "pos,prob,state = sampler.run_mcmc(pos, 1000)"
     ],
     "language": "python",
     "metadata": {},
     "outputs": [],
     "prompt_number": 208
    },
    {
     "cell_type": "code",
     "collapsed": false,
     "input": [
      "plt.figure(figsize=(6,6))\n",
      "plt.hist(np.random.normal(c_mu, c_sigma, size=10000), normed=True, color=\"#aaaaaa\", alpha=0.75);\n",
      "plt.hist(sampler.flatchain, normed=True, alpha=0.9);\n",
      "\n",
      "x = np.linspace(9.,11,256)\n",
      "y = np.exp(-0.5*((x - lsq_c)/lsq_c_sigma)**2) / np.sqrt(2*np.pi) / lsq_c_sigma\n",
      "plt.plot(x, y, marker=None, lw=2.);\n",
      "\n",
      "plt.xlim(8, 12)\n",
      "plt.axvline(10., lw=3., linestyle='--', alpha=0.65, color='r')\n",
      "plt.xlabel(\"$c$\")\n",
      "ax = plt.gca()\n",
      "ax.yaxis.set_visible(False)\n",
      "plt.title(r\"$N_{\\rm data} = $\" + \"${}$\".format(N), y=1.03)"
     ],
     "language": "python",
     "metadata": {},
     "outputs": [
      {
       "metadata": {},
       "output_type": "pyout",
       "prompt_number": 209,
       "text": [
        "<matplotlib.text.Text at 0x112028e50>"
       ]
      },
      {
       "metadata": {},
       "output_type": "display_data",
       "png": "[encoded data removed]",
       "text": [
        "<matplotlib.figure.Figure at 0x111752f90>"
       ]
      }
     ],
     "prompt_number": 209
    },
    {
     "cell_type": "code",
     "collapsed": false,
     "input": [],
     "language": "python",
     "metadata": {},
     "outputs": [],
     "prompt_number": 209
    },
    {
     "cell_type": "code",
     "collapsed": false,
     "input": [],
     "language": "python",
     "metadata": {},
     "outputs": []
    }
   ],
   "metadata": {}
  }
 ]
}